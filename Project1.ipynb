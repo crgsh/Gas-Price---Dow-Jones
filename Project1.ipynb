{
 "cells": [
  {
   "cell_type": "code",
   "execution_count": 1,
   "metadata": {},
   "outputs": [],
   "source": [
    "import os\n",
    "import numpy as np\n",
    "import pandas as pd\n",
    "import matplotlib.pyplot as plt\n",
    "import json\n",
    "from scipy.stats import linregress\n",
    "from pprint import pprint\n",
    "from APIKEY import eia_api\n",
    "\n",
    "output_data_file = \"whatevername.csv\"\n"
   ]
  },
  {
   "cell_type": "code",
   "execution_count": null,
   "metadata": {},
   "outputs": [],
   "source": [
    "url = \"http://api.eia.gov/category/?api_key=YOUR_API_KEY_HERE&category_id=371\"\n",
    "query = \"granola\" (Search for articles that mention granola)\n",
    "query_url = url + \"api-key=\" + api_key + \"&q=\" + query\n",
    "articles = requests.get(query_url).json()\n",
    "articles_list = articles[\"response\"][\"docs\"]\n",
    "print(articles_list)"
   ]
  }
 ],
 "metadata": {
  "kernelspec": {
   "display_name": "Python 3",
   "language": "python",
   "name": "python3"
  },
  "language_info": {
   "codemirror_mode": {
    "name": "ipython",
    "version": 3
   },
   "file_extension": ".py",
   "mimetype": "text/x-python",
   "name": "python",
   "nbconvert_exporter": "python",
   "pygments_lexer": "ipython3",
   "version": "3.7.4"
  }
 },
 "nbformat": 4,
 "nbformat_minor": 2
}
